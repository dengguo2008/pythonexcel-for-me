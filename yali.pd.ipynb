{
 "cells": [
  {
   "cell_type": "markdown",
   "metadata": {},
   "source": [
    "# txt数据说明\n",
    "采样周期1ms  \n",
    "FA开头，FF结尾  \n",
    "中间每两行为一个数值，十六进制  "
   ]
  },
  {
   "cell_type": "markdown",
   "metadata": {},
   "source": [
    "# 数据的行标题，没啥用\n",
    "FA A0 A1 B0 B1 C0 C1 D0 D1 E0 E1 F0 F1 G0 G1 H0 H1 I0 I1 J0 J1 K0 K1 L0 L1 M0 M1 N0 N1 O0 O1 FF  \n",
    "FA 0A 0B 0A 0B 0A 0B 0A 0B 0A 0B 0A 0B 0A 0B 0A 0B 0A 0B 0A 0B 0A 0B 0A 0B 0A 0B 0A 0B 0A 0B FF  "
   ]
  },
  {
   "cell_type": "markdown",
   "metadata": {},
   "source": [
    "# 处理方法\n",
    " 导入一个txt文件  \n",
    " 对700静止进行处理  \n",
    " 使用pandas读取总行数与总列数  \n",
    " 将两列合并为一列  \n",
    " 将合并后列数转换为十进制  \n",
    " 对转换后数据进行计算，算出阻值，保存csv  \n",
    " 使用numpy将所有的行合并为一行  "
   ]
  },
  {
   "cell_type": "code",
   "execution_count": 17,
   "metadata": {},
   "outputs": [
    {
     "name": "stdout",
     "output_type": "stream",
     "text": [
      "D:\\python\\后退压力开关\\批处理\n"
     ]
    }
   ],
   "source": [
    "import numpy as np\n",
    "import pandas as pd\n",
    "import os\n",
    "import glob\n",
    "#设定文件夹目录目录\n",
    "dir_str=\"D:\\python\\后退压力开关\\批处理\"\n",
    "file_name=os.listdir(dir_str)\n",
    "file_dir=[os.path.join(dir_str,x) for x in file_name]\n",
    "#新建空白字典\n",
    "name_s=[]\n",
    "#将去除后缀的文件名保存到列表\n",
    "m = 0\n",
    "for f in file_name:\n",
    "    name = os.path.splitext(f)[0]\n",
    "    name_s.append(name)\n",
    "#修改工作目录\n",
    "BASE_DIR = os.path.dirname(os.path.abspath(\"D:\\python\\后退压力开关\\批处理\\)\"))  # 这里保险的就是直接先把绝对路径加入到搜索路径\n",
    "sys.path.insert(0, os.path.join(BASE_DIR))\n",
    "# 这句代码进行切换目录\n",
    "os.chdir(BASE_DIR)   # 把目录切换到当前项目，这句话是关键\n",
    "# 只读模式，打开txt文件，无列名，以‘utf-8’编码\n",
    "print(os.getcwd())\n",
    "for f in file_name:\n",
    "    df = pd.read_csv('./'+f,header=None, encoding='utf-8',sep='\\s+')\n",
    "#读取文本的总行数与总列数\n",
    "    i = df.shape\n",
    "    #总列数\n",
    "    R3 = i[1]\n",
    "    #总行数\n",
    "    R4 = i[0]\n",
    "#将数据格式转化为str避免出错\n",
    "    df = df.astype(str)\n",
    "#确认数据的类型\n",
    "    #df.info()\n",
    "#将中间的两列合并为一列\n",
    "    h = 1\n",
    "    for k in range(0,15):\n",
    "        df[k]=df[h]+df[h+1]\n",
    "        h +=2\n",
    "#将十六进制转化为十进制\n",
    "    df = df.apply(lambda x: x.astype(str).map(lambda x: int(x, base=16)))\n",
    "#将数据转化为浮点数，便于计算\n",
    "    df = df.astype(float)\n",
    "#对转换的十进制进行计算\n",
    "    for k in range(0,15):\n",
    "        df[k] = (1351680 - 33*df[k])/df[k]\n",
    "#截取第0-14列\n",
    "    dk = df.iloc[:,0:k+1]\n",
    "    #dk的行列数\n",
    "    j = dk.shape\n",
    "    h1 = dk.iloc[0]\n",
    "    for t in range(1,R4):\n",
    "        h2 = dk.iloc[t]\n",
    "        dh = pd.concat([h1,h2],ignore_index=True,axis=0)\n",
    "        h1 = dh\n",
    "#打印数据类型\n",
    "    #print(dh.dtypes)\n",
    "#读取文本的总行数与总列数\n",
    "    #j = dh.shape\n",
    "    #修改工作目录，便于保存\n",
    "    os.chdir('D:\\python\\后退压力开关\\批处理CSV')\n",
    "#保存截取的数据,第一行为空，第一列为空\n",
    "    #print(dk)\n",
    "    dh.to_csv(name_s[m]+'阻值.csv',header=None,index=None)\n",
    "    m +=1\n",
    "    #修改工作目录，重新读取\n",
    "    os.chdir('D:\\python\\后退压力开关\\批处理')"
   ]
  },
  {
   "cell_type": "markdown",
   "metadata": {},
   "source": [
    "# 以下为静止阻值合并操作\n",
    "对数据处理产生的表格进行读取  \n",
    "读取完成后合并成一个表格  \n"
   ]
  },
  {
   "cell_type": "code",
   "execution_count": 30,
   "metadata": {},
   "outputs": [],
   "source": [
    "import numpy as np\n",
    "import pandas as pd\n",
    "import os\n",
    "import sys\n",
    "os.chdir(r'D:\\python\\后退压力开关')\n",
    "# 只读模式，打开txt文件，无列名，以‘utf-8’编码\n",
    "df1 = pd.read_csv(r\"D:\\python\\后退压力开关\\批处理csv\\700静止阻值.csv\",header=None, encoding='utf-8',sep='\\s+')\n",
    "df2 = pd.read_csv(r\"D:\\python\\后退压力开关\\批处理csv\\800静止阻值.csv\",header=None, encoding='utf-8',sep='\\s+')\n",
    "df3 = pd.read_csv(r\"D:\\python\\后退压力开关\\批处理csv\\850静止阻值.csv\",header=None, encoding='utf-8',sep='\\s+')\n",
    "df4 = pd.read_csv(r\"D:\\python\\后退压力开关\\批处理csv\\900静止阻值.csv\",header=None, encoding='utf-8',sep='\\s+')\n",
    "df5 = pd.concat((df1,df2,df3,df4), axis=1, join='outer', ignore_index=False)\n",
    "# 重命名列名\n",
    "df5.columns = ['700mm' , '800mm' , '850mm' , '900mm']\n",
    "amax = df5.max( )\n",
    "amin = df5.min( )\n",
    "aavg = df5.mean( )\n",
    "df6 = pd.concat((amax,amin,aavg), axis=1, join='outer', ignore_index=False)\n",
    "#重新定义列名\n",
    "df6.columns = ['最大值' , '最小值' , '平均值']\n",
    "#重新定义行名\n",
    "df6.index = ['700mm' , '800mm' , '850mm' , '900mm']\n",
    "#print(amax,amin)\n",
    "#print(df5)\n",
    "os.chdir('D:\\python\\后退压力开关\\批处理CSV')\n",
    "df5.to_csv('静止阻值合并.csv',index=None)\n",
    "df6.to_csv('静止阻值均值.csv')"
   ]
  },
  {
   "cell_type": "markdown",
   "metadata": {},
   "source": [
    "# 慢运动合并操作\n",
    "对数据处理产生的表格进行读取  \n",
    "读取完成后合并成一个表格  "
   ]
  },
  {
   "cell_type": "code",
   "execution_count": 35,
   "metadata": {},
   "outputs": [],
   "source": [
    "import numpy as np\n",
    "import pandas as pd\n",
    "import os\n",
    "import sys\n",
    "os.chdir(r'D:\\python\\后退压力开关')\n",
    "# 只读模式，打开txt文件，无列名，以‘utf-8’编码\n",
    "df1 = pd.read_csv(r\"D:\\python\\后退压力开关\\批处理csv\\700慢运动阻值.csv\",header=None, encoding='utf-8',sep='\\s+')\n",
    "df2 = pd.read_csv(r\"D:\\python\\后退压力开关\\批处理csv\\800慢运动阻值.csv\",header=None, encoding='utf-8',sep='\\s+')\n",
    "df3 = pd.read_csv(r\"D:\\python\\后退压力开关\\批处理csv\\850慢运动阻值.csv\",header=None, encoding='utf-8',sep='\\s+')\n",
    "df4 = pd.read_csv(r\"D:\\python\\后退压力开关\\批处理csv\\900慢运动阻值.csv\",header=None, encoding='utf-8',sep='\\s+')\n",
    "df5 = pd.concat((df1,df2,df3,df4), axis=1, join='outer', ignore_index=False)\n",
    "df5.columns = ['700mm' , '800mm' , '850mm' , '900mm']\n",
    "amax = df5.max( )\n",
    "amin = df5.min( )\n",
    "aavg = df5.mean( )\n",
    "df6 = pd.concat((amax,amin,aavg), axis=1, join='outer', ignore_index=False)\n",
    "#重新定义列名\n",
    "df6.columns = ['最大值' , '最小值' , '平均值']\n",
    "#重新定义行名\n",
    "df6.index = ['700mm' , '800mm' , '850mm' , '900mm']\n",
    "os.chdir('D:\\python\\后退压力开关\\批处理CSV')\n",
    "df5.to_csv('慢运动阻值合并.csv',index=None)\n",
    "df6.to_csv('慢运动阻值均值.csv')"
   ]
  },
  {
   "cell_type": "markdown",
   "metadata": {},
   "source": [
    "# 快运动合并操作\n",
    "对数据处理产生的表格进行读取  \n",
    "读取完成后合并成一个表格  "
   ]
  },
  {
   "cell_type": "code",
   "execution_count": 36,
   "metadata": {},
   "outputs": [],
   "source": [
    "import numpy as np\n",
    "import pandas as pd\n",
    "import os\n",
    "import sys\n",
    "os.chdir(r'D:\\python\\后退压力开关')\n",
    "# 只读模式，打开txt文件，无列名，以‘utf-8’编码\n",
    "df1 = pd.read_csv(r\"D:\\python\\后退压力开关\\批处理csv\\700快运动阻值.csv\",header=None, encoding='utf-8',sep='\\s+')\n",
    "df2 = pd.read_csv(r\"D:\\python\\后退压力开关\\批处理csv\\800快运动阻值.csv\",header=None, encoding='utf-8',sep='\\s+')\n",
    "df3 = pd.read_csv(r\"D:\\python\\后退压力开关\\批处理csv\\850快运动阻值.csv\",header=None, encoding='utf-8',sep='\\s+')\n",
    "df4 = pd.read_csv(r\"D:\\python\\后退压力开关\\批处理csv\\900快运动阻值.csv\",header=None, encoding='utf-8',sep='\\s+')\n",
    "df5 = pd.concat((df1,df2,df3,df4), axis=1, join='outer', ignore_index=False)\n",
    "df5.columns = ['700mm' , '800mm' , '850mm' , '900mm']\n",
    "df6 = pd.concat((amax,amin,aavg), axis=1, join='outer', ignore_index=False)\n",
    "#重新定义列名\n",
    "df6.columns = ['最大值' , '最小值' , '平均值']\n",
    "#重新定义行名\n",
    "df6.index = ['700mm' , '800mm' , '850mm' , '900mm']\n",
    "os.chdir('D:\\python\\后退压力开关\\批处理CSV')\n",
    "os.chdir('D:\\python\\后退压力开关\\批处理CSV')\n",
    "df5.to_csv('快运动阻值合并.csv',index=None)\n",
    "df6.to_csv('快运动阻值均值.csv')"
   ]
  },
  {
   "cell_type": "markdown",
   "metadata": {},
   "source": [
    "# 后记\n",
    "基本完美，最后三步的批量合并还是有缺陷  \n",
    "后续有时间再整理吧  \n",
    "基本思路如下：   \n",
    "单个高度状态的阻值合并以后，保存到词典，列名为文件名   \n",
    "读取对应的列，将静止、快运动、慢运动的数据分别合并  "
   ]
  }
 ],
 "metadata": {
  "kernelspec": {
   "display_name": "Python 3.11.0 64-bit",
   "language": "python",
   "name": "python3"
  },
  "language_info": {
   "codemirror_mode": {
    "name": "ipython",
    "version": 3
   },
   "file_extension": ".py",
   "mimetype": "text/x-python",
   "name": "python",
   "nbconvert_exporter": "python",
   "pygments_lexer": "ipython3",
   "version": "3.11.0 (main, Oct 24 2022, 18:26:48) [MSC v.1933 64 bit (AMD64)]"
  },
  "orig_nbformat": 4,
  "vscode": {
   "interpreter": {
    "hash": "16b89549748e7a1c0dbe1d44c23a858df96c5411947f3c32a9c81b1ff85235ac"
   }
  }
 },
 "nbformat": 4,
 "nbformat_minor": 2
}
